{
 "cells": [
  {
   "cell_type": "code",
   "execution_count": 32,
   "id": "fd2386f3",
   "metadata": {},
   "outputs": [],
   "source": [
    "import numpy as np\n",
    "from scipy.spatial.distance import cdist"
   ]
  },
  {
   "cell_type": "code",
   "execution_count": 33,
   "id": "fd989e6a",
   "metadata": {},
   "outputs": [],
   "source": [
    "\n",
    "\n",
    "\n",
    "def calculate_distance(data, centroid):\n",
    "    \n",
    "    return cdist(data,centroid)\n"
   ]
  },
  {
   "cell_type": "code",
   "execution_count": 34,
   "id": "e21f2933",
   "metadata": {},
   "outputs": [],
   "source": [
    "distance = calculate_distance([[2,3],[4,6],[6,7]], [[0.5,0.3],[6,6]])"
   ]
  },
  {
   "cell_type": "code",
   "execution_count": 35,
   "id": "94bbc260",
   "metadata": {},
   "outputs": [],
   "source": [
    "def make_clusters(distance):\n",
    "    clusters = []\n",
    "    for i in distance :\n",
    "         clusters.append(np.argmin(i))\n",
    "    return clusters"
   ]
  },
  {
   "cell_type": "code",
   "execution_count": 36,
   "id": "2898ce4a",
   "metadata": {},
   "outputs": [],
   "source": [
    "clusters = make_clusters(distance)"
   ]
  },
  {
   "cell_type": "code",
   "execution_count": 37,
   "id": "54205a95",
   "metadata": {},
   "outputs": [
    {
     "data": {
      "text/plain": [
       "[0, 1, 1]"
      ]
     },
     "execution_count": 37,
     "metadata": {},
     "output_type": "execute_result"
    }
   ],
   "source": [
    "clusters"
   ]
  },
  {
   "cell_type": "code",
   "execution_count": 45,
   "id": "8138f4ec",
   "metadata": {},
   "outputs": [],
   "source": [
    "def update_centroids(iterations, data, k, clusters):\n",
    "    cluster_map = {}\n",
    "    for i in range(k):\n",
    "        cluster_map[i] = np.array([])\n",
    "        \n",
    "    centroids = np.zeros((k,len(data[0])))\n",
    "    \n",
    "    for _ in range(iterations): \n",
    "        for idx,i in enumerate(data):\n",
    "            cluster_map[clusters[idx]] = np.append(cluster_map[clusters[idx]], np.array(i))\n",
    "            \n",
    "        for i in range(k):\n",
    "             centroids[i]= np.mean(cluster_map[i],axis = 0)\n",
    "        \n",
    "        clusters =make_clusters(calculate_distance(data, centroids))\n",
    "    \n",
    "    return clusters"
   ]
  },
  {
   "cell_type": "code",
   "execution_count": 53,
   "id": "bde06804",
   "metadata": {},
   "outputs": [
    {
     "data": {
      "text/plain": [
       "[1, 1, 1, 0, 0, 0]"
      ]
     },
     "execution_count": 53,
     "metadata": {},
     "output_type": "execute_result"
    }
   ],
   "source": [
    "X = np.array([[1, 2], [1, 4], [1, 0],\n",
    "               [10, 2], [10, 4], [10, 0]])\n",
    "\n",
    "update_centroids(1000, X, 2, [1,0,0,0,0,0])"
   ]
  },
  {
   "cell_type": "code",
   "execution_count": 54,
   "id": "d907d6a8",
   "metadata": {},
   "outputs": [],
   "source": [
    "#### Checking with KMEANS"
   ]
  },
  {
   "cell_type": "code",
   "execution_count": 55,
   "id": "9eb67828",
   "metadata": {},
   "outputs": [
    {
     "data": {
      "text/plain": [
       "array([1, 1, 1, 0, 0, 0], dtype=int32)"
      ]
     },
     "execution_count": 55,
     "metadata": {},
     "output_type": "execute_result"
    }
   ],
   "source": [
    "from sklearn.cluster import KMeans\n",
    "kmeans = KMeans(n_init = 1, max_iter = 100, n_clusters=2, random_state=0).fit(X)\n",
    "kmeans.labels_\n"
   ]
  }
 ],
 "metadata": {
  "kernelspec": {
   "display_name": "Python 3",
   "language": "python",
   "name": "python3"
  },
  "language_info": {
   "codemirror_mode": {
    "name": "ipython",
    "version": 3
   },
   "file_extension": ".py",
   "mimetype": "text/x-python",
   "name": "python",
   "nbconvert_exporter": "python",
   "pygments_lexer": "ipython3",
   "version": "3.8.8"
  }
 },
 "nbformat": 4,
 "nbformat_minor": 5
}
